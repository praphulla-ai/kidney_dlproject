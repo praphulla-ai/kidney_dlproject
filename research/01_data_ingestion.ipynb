{
 "cells": [
  {
   "cell_type": "code",
   "execution_count": 1,
   "id": "3be99049",
   "metadata": {},
   "outputs": [],
   "source": [
    "import os"
   ]
  },
  {
   "cell_type": "code",
   "execution_count": 2,
   "id": "19ae5808",
   "metadata": {},
   "outputs": [
    {
     "data": {
      "text/plain": [
       "'c:\\\\mydlproject\\\\kidney_dlproject\\\\research'"
      ]
     },
     "execution_count": 2,
     "metadata": {},
     "output_type": "execute_result"
    }
   ],
   "source": [
    "os.getcwd()"
   ]
  },
  {
   "cell_type": "code",
   "execution_count": 3,
   "id": "ae0ae455",
   "metadata": {},
   "outputs": [
    {
     "data": {
      "text/plain": [
       "'c:\\\\mydlproject\\\\kidney_dlproject\\\\research'"
      ]
     },
     "execution_count": 3,
     "metadata": {},
     "output_type": "execute_result"
    }
   ],
   "source": [
    "%pwd"
   ]
  },
  {
   "cell_type": "code",
   "execution_count": 4,
   "id": "2caf44b3",
   "metadata": {},
   "outputs": [],
   "source": [
    "os.chdir(\"../\")"
   ]
  },
  {
   "cell_type": "code",
   "execution_count": 5,
   "id": "c46dc12b",
   "metadata": {},
   "outputs": [
    {
     "data": {
      "text/plain": [
       "'c:\\\\mydlproject\\\\kidney_dlproject'"
      ]
     },
     "execution_count": 5,
     "metadata": {},
     "output_type": "execute_result"
    }
   ],
   "source": [
    "%pwd"
   ]
  },
  {
   "cell_type": "code",
   "execution_count": 6,
   "id": "f13afef5",
   "metadata": {},
   "outputs": [],
   "source": [
    "# 1. Update config.yaml\n",
    "# 2. Update secrets.yaml [Optional]\n",
    "# 3. Update params.yaml\n",
    "# 4. Update the entity\n",
    "# 5. Update the configuration manager in src config\n",
    "# 6. Update the components\n",
    "# 7. Update the pipeline \n",
    "# 8. Update the main.py"
   ]
  },
  {
   "cell_type": "code",
   "execution_count": 7,
   "id": "9754dae6",
   "metadata": {},
   "outputs": [],
   "source": [
    "# update config.yam"
   ]
  },
  {
   "cell_type": "code",
   "execution_count": 8,
   "id": "5f2881b5",
   "metadata": {},
   "outputs": [],
   "source": [
    "# update params.yaml"
   ]
  },
  {
   "cell_type": "code",
   "execution_count": 9,
   "id": "ed87fc8f",
   "metadata": {},
   "outputs": [],
   "source": [
    "# update the entity"
   ]
  },
  {
   "cell_type": "code",
   "execution_count": 10,
   "id": "c3664fd7",
   "metadata": {},
   "outputs": [],
   "source": [
    "from dataclasses import dataclass\n",
    "from pathlib import Path\n",
    "\n",
    "\n",
    "@dataclass(frozen=True)\n",
    "class DataIngestionConfig:\n",
    "    root_dir: Path\n",
    "    source_URL: str\n",
    "    local_data_file: Path\n",
    "    unzip_dir: Path"
   ]
  },
  {
   "cell_type": "code",
   "execution_count": 11,
   "id": "82938379",
   "metadata": {},
   "outputs": [],
   "source": [
    "# Update the configuration manager in src config"
   ]
  },
  {
   "cell_type": "code",
   "execution_count": 12,
   "id": "5683e358",
   "metadata": {},
   "outputs": [],
   "source": [
    "from src.cnnClassifier.utils.comman import read_yaml,create_directories\n",
    "from src.cnnClassifier.constants import*"
   ]
  },
  {
   "cell_type": "code",
   "execution_count": 13,
   "id": "3a231c43",
   "metadata": {},
   "outputs": [],
   "source": [
    "from src.cnnClassifier.constants import * "
   ]
  },
  {
   "cell_type": "code",
   "execution_count": 14,
   "id": "16758729",
   "metadata": {},
   "outputs": [
    {
     "data": {
      "text/plain": [
       "WindowsPath('config/config.yaml')"
      ]
     },
     "execution_count": 14,
     "metadata": {},
     "output_type": "execute_result"
    }
   ],
   "source": [
    "CONFIG_FILE_PATH"
   ]
  },
  {
   "cell_type": "code",
   "execution_count": 15,
   "id": "bddd9660",
   "metadata": {},
   "outputs": [],
   "source": [
    "class ConfigurationManager:\n",
    "    def __init__(\n",
    "        self,\n",
    "        config_filepath = CONFIG_FILE_PATH,\n",
    "        params_filepath = PARAMS_FILE_PATH):\n",
    "\n",
    "        self.config = read_yaml(config_filepath)\n",
    "        self.params = read_yaml(params_filepath)\n",
    "\n",
    "        create_directories([self.config.artifacts_root])\n",
    "\n",
    "\n",
    "    \n",
    "    def get_data_ingestion_config(self) -> DataIngestionConfig:\n",
    "        config = self.config.data_ingestion\n",
    "\n",
    "        create_directories([config.root_dir])\n",
    "\n",
    "        data_ingestion_config = DataIngestionConfig(\n",
    "            root_dir=config.root_dir,\n",
    "            source_URL=config.source_URL,\n",
    "            local_data_file=config.local_data_file,\n",
    "            unzip_dir=config.unzip_dir \n",
    "        )\n",
    "\n",
    "        return data_ingestion_config"
   ]
  },
  {
   "cell_type": "code",
   "execution_count": 16,
   "id": "3f3538ef",
   "metadata": {},
   "outputs": [],
   "source": [
    "# componets"
   ]
  },
  {
   "cell_type": "code",
   "execution_count": 17,
   "id": "84bcfe90",
   "metadata": {},
   "outputs": [],
   "source": [
    "import os \n",
    "import zipfile\n",
    "import gdown\n",
    "from src.cnnClassifier import logger\n",
    "from src.cnnClassifier.utils.comman import get_size"
   ]
  },
  {
   "cell_type": "code",
   "execution_count": 18,
   "id": "b1cc9bfb",
   "metadata": {},
   "outputs": [],
   "source": [
    "class DataIngestion:\n",
    "    def __init__(self, config: DataIngestionConfig):\n",
    "        self.config = config\n",
    "\n",
    "    \n",
    "    def download_file(self)-> str:\n",
    "        '''\n",
    "        Fetch data from the url\n",
    "        '''\n",
    "\n",
    "        try: \n",
    "            dataset_url = self.config.source_URL\n",
    "            zip_download_dir = self.config.local_data_file\n",
    "            os.makedirs(\"artifacts/data_ingestion\", exist_ok=True)\n",
    "            logger.info(f\"Downloading data from {dataset_url} into file {zip_download_dir}\")\n",
    "\n",
    "            file_id = dataset_url.split(\"/\")[-2]\n",
    "            prefix = 'https://drive.google.com/uc?/export=download&id='\n",
    "            gdown.download(prefix+file_id,zip_download_dir)\n",
    "\n",
    "            logger.info(f\"Downloaded data from {dataset_url} into file {zip_download_dir}\")\n",
    "\n",
    "        except Exception as e:\n",
    "            raise e\n",
    "        \n",
    "    \n",
    "\n",
    "    def extract_zip_file(self):\n",
    "        \"\"\"\n",
    "        zip_file_path: str\n",
    "        Extracts the zip file into the data directory\n",
    "        Function returns None\n",
    "        \"\"\"\n",
    "        unzip_path = self.config.unzip_dir\n",
    "        os.makedirs(unzip_path, exist_ok=True)\n",
    "        with zipfile.ZipFile(self.config.local_data_file, 'r') as zip_ref:\n",
    "            zip_ref.extractall(unzip_path)"
   ]
  },
  {
   "cell_type": "code",
   "execution_count": 19,
   "id": "b41fb774",
   "metadata": {},
   "outputs": [],
   "source": [
    "# pipeline "
   ]
  },
  {
   "cell_type": "code",
   "execution_count": 20,
   "id": "9a497c35",
   "metadata": {},
   "outputs": [
    {
     "name": "stdout",
     "output_type": "stream",
     "text": [
      "[2025-09-13 08:32:52,759: INFO: comman: yaml file: config\\config.yaml loaded successfully]\n",
      "[2025-09-13 08:32:52,772: INFO: comman: yaml file: params.yaml loaded successfully]\n",
      "[2025-09-13 08:32:52,772: INFO: comman: created directory at: artifacts]\n",
      "[2025-09-13 08:32:52,772: INFO: comman: created directory at: artifacts/data_ingestion]\n",
      "[2025-09-13 08:32:52,788: INFO: 986331348: Downloading data from https://drive.google.com/file/d/1vlhZ5c7abUKF8xXERIw6m9Te8fW7ohw3/view?usp=sharing into file artifacts/data_ingestion/data.zip]\n"
     ]
    },
    {
     "name": "stderr",
     "output_type": "stream",
     "text": [
      "Downloading...\n",
      "From (original): https://drive.google.com/uc?/export=download&id=1vlhZ5c7abUKF8xXERIw6m9Te8fW7ohw3\n",
      "From (redirected): https://drive.google.com/uc?%2Fexport=download&id=1vlhZ5c7abUKF8xXERIw6m9Te8fW7ohw3&confirm=t&uuid=c72d105d-389f-47e9-88a9-5518ae7a413c\n",
      "To: c:\\mydlproject\\kidney_dlproject\\artifacts\\data_ingestion\\data.zip\n",
      "100%|██████████| 57.7M/57.7M [00:09<00:00, 6.38MB/s]"
     ]
    },
    {
     "name": "stdout",
     "output_type": "stream",
     "text": [
      "[2025-09-13 08:33:05,275: INFO: 986331348: Downloaded data from https://drive.google.com/file/d/1vlhZ5c7abUKF8xXERIw6m9Te8fW7ohw3/view?usp=sharing into file artifacts/data_ingestion/data.zip]\n"
     ]
    },
    {
     "name": "stderr",
     "output_type": "stream",
     "text": [
      "\n"
     ]
    }
   ],
   "source": [
    "try:\n",
    "    config = ConfigurationManager()\n",
    "    data_ingestion_config = config.get_data_ingestion_config()\n",
    "    data_ingestion = DataIngestion(config=data_ingestion_config)\n",
    "    data_ingestion.download_file()\n",
    "    data_ingestion.extract_zip_file()\n",
    "except Exception as e:\n",
    "    raise e"
   ]
  },
  {
   "cell_type": "code",
   "execution_count": null,
   "id": "b1dc30ad",
   "metadata": {},
   "outputs": [],
   "source": []
  }
 ],
 "metadata": {
  "kernelspec": {
   "display_name": "kidney",
   "language": "python",
   "name": "python3"
  },
  "language_info": {
   "codemirror_mode": {
    "name": "ipython",
    "version": 3
   },
   "file_extension": ".py",
   "mimetype": "text/x-python",
   "name": "python",
   "nbconvert_exporter": "python",
   "pygments_lexer": "ipython3",
   "version": "3.12.7"
  }
 },
 "nbformat": 4,
 "nbformat_minor": 5
}
